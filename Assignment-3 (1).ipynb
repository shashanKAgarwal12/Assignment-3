{
 "cells": [
  {
   "cell_type": "markdown",
   "id": "1f65b39c-cca3-4579-bf45-0becb5ae0efd",
   "metadata": {},
   "source": [
    "## Answer No.1\n",
    "\n",
    "\"def\" keyword is use to create the function"
   ]
  },
  {
   "cell_type": "code",
   "execution_count": 23,
   "id": "4725a552-72dc-47f8-bd3b-4bc9ee200cd0",
   "metadata": {},
   "outputs": [],
   "source": [
    "def odd_num():\n",
    "    odd_number_list=[i for i in range(1,25) if i %2!=0]\n",
    "    return odd_number_list"
   ]
  },
  {
   "cell_type": "code",
   "execution_count": 25,
   "id": "e84285c7-5ed9-4898-8764-130a0a50aa9c",
   "metadata": {},
   "outputs": [
    {
     "data": {
      "text/plain": [
       "[1, 3, 5, 7, 9, 11, 13, 15, 17, 19, 21, 23]"
      ]
     },
     "execution_count": 25,
     "metadata": {},
     "output_type": "execute_result"
    }
   ],
   "source": [
    "odd_num()"
   ]
  },
  {
   "cell_type": "markdown",
   "id": "4b39b77b-a157-4410-800b-86adcb7dcfbe",
   "metadata": {},
   "source": [
    "## Answer No.2\n",
    "\n",
    "1.The \"*args\" is used for making the function dynamic in this the argument is pass in tuple () form.\n",
    "This is used for take multipal data from the user and stored as tuple().\n",
    "\n",
    "2.The \"**kwargs\" is stands for making keyword in the function and in this the agrument is pass in the dict {} form. \n",
    "As like \"args\" the \"kwagrs\" is also used for take multipal data from the user and stored as dict{}.In this we give the keywords and the value.  "
   ]
  },
  {
   "cell_type": "code",
   "execution_count": 26,
   "id": "0744c6b8-add8-4300-91cd-f0d086b1e8e4",
   "metadata": {},
   "outputs": [],
   "source": [
    "##function for \"*args\"\n",
    "\n",
    "def argument(*args):\n",
    "    return args"
   ]
  },
  {
   "cell_type": "code",
   "execution_count": 28,
   "id": "755ca8b7-292f-46fd-aa01-e1d771da40bb",
   "metadata": {},
   "outputs": [
    {
     "data": {
      "text/plain": [
       "(1, 2, 3, 4, 5, 6, 'shashank')"
      ]
     },
     "execution_count": 28,
     "metadata": {},
     "output_type": "execute_result"
    }
   ],
   "source": [
    "argument(1,2,3,4,5,6,\"shashank\")"
   ]
  },
  {
   "cell_type": "code",
   "execution_count": 29,
   "id": "5e65a387-a90f-44b5-8336-37f1ce93426d",
   "metadata": {},
   "outputs": [],
   "source": [
    "##function for \"**kwargs\"\n",
    "\n",
    "def kwargument(**kwargs):\n",
    "    return kwargs"
   ]
  },
  {
   "cell_type": "code",
   "execution_count": 31,
   "id": "3532b11f-aa89-4011-8063-668c30f3f5a6",
   "metadata": {},
   "outputs": [
    {
     "data": {
      "text/plain": [
       "{'a': [1, 2, 3, 4, 5], 'b': 'shashank', 'c': True}"
      ]
     },
     "execution_count": 31,
     "metadata": {},
     "output_type": "execute_result"
    }
   ],
   "source": [
    "kwargument(a = [1,2,3,4,5] , b = \"shashank\" , c = True )"
   ]
  },
  {
   "cell_type": "markdown",
   "id": "29aabac6-2e20-4fa7-b1bf-98efdb785d24",
   "metadata": {},
   "source": [
    "## Answer No.3\n",
    "\n",
    "The \"iterator\" is used for the fetching the next data again and again.\n",
    "\"iter\" is used for iterate the data.\n"
   ]
  },
  {
   "cell_type": "code",
   "execution_count": 1,
   "id": "bd384d8d-b0ad-46b4-ad46-3d9dbe0595ed",
   "metadata": {},
   "outputs": [],
   "source": [
    "l = [2, 4, 6, 8, 10, 12, 14, 16, 18, 20]\n",
    "l1 = iter(l)"
   ]
  },
  {
   "cell_type": "code",
   "execution_count": 4,
   "id": "0be2f3ea-9ea9-4320-8e4b-209de8f18e1e",
   "metadata": {},
   "outputs": [
    {
     "data": {
      "text/plain": [
       "2"
      ]
     },
     "execution_count": 4,
     "metadata": {},
     "output_type": "execute_result"
    }
   ],
   "source": [
    "next(l1)"
   ]
  },
  {
   "cell_type": "code",
   "execution_count": 5,
   "id": "64bc9b3a-c6a5-4dd7-aba1-72099ea2b77f",
   "metadata": {},
   "outputs": [
    {
     "data": {
      "text/plain": [
       "4"
      ]
     },
     "execution_count": 5,
     "metadata": {},
     "output_type": "execute_result"
    }
   ],
   "source": [
    "next(l1)"
   ]
  },
  {
   "cell_type": "code",
   "execution_count": 6,
   "id": "42c6c446-d1fb-49f5-bae0-77885244243d",
   "metadata": {},
   "outputs": [
    {
     "data": {
      "text/plain": [
       "6"
      ]
     },
     "execution_count": 6,
     "metadata": {},
     "output_type": "execute_result"
    }
   ],
   "source": [
    "next(l1)"
   ]
  },
  {
   "cell_type": "code",
   "execution_count": 7,
   "id": "c3e760c2-e1ef-4052-a1d1-d8f20fdf814f",
   "metadata": {},
   "outputs": [
    {
     "data": {
      "text/plain": [
       "8"
      ]
     },
     "execution_count": 7,
     "metadata": {},
     "output_type": "execute_result"
    }
   ],
   "source": [
    "next(l1)"
   ]
  },
  {
   "cell_type": "code",
   "execution_count": 8,
   "id": "a192167e-c74b-428b-9df9-b9bfef63de19",
   "metadata": {},
   "outputs": [
    {
     "data": {
      "text/plain": [
       "10"
      ]
     },
     "execution_count": 8,
     "metadata": {},
     "output_type": "execute_result"
    }
   ],
   "source": [
    "next(l1)"
   ]
  },
  {
   "cell_type": "markdown",
   "id": "75886e97-54b7-47c6-9aaa-7c0c41c0773b",
   "metadata": {},
   "source": [
    "## Answer No.4\n",
    "\n",
    "The generator function is generate the outcome in the countineous mannar without holding everything into the memory.\n",
    "\n",
    "The \"yield\" keyword is used because the \"yield\" keyword is generate the generator function in the nature."
   ]
  },
  {
   "cell_type": "code",
   "execution_count": 48,
   "id": "913c1892-9531-40c3-8099-ae84158c4184",
   "metadata": {},
   "outputs": [],
   "source": [
    "def generator_function(n):\n",
    "    count = 1\n",
    "    while count <= n:\n",
    "        yield count\n",
    "        count = count +1"
   ]
  },
  {
   "cell_type": "code",
   "execution_count": 51,
   "id": "0651e21f-d00c-440f-a530-858db4188cc7",
   "metadata": {},
   "outputs": [],
   "source": [
    "c = generator_function(10)"
   ]
  },
  {
   "cell_type": "code",
   "execution_count": 52,
   "id": "038f381c-99c4-4a06-9eaa-e86c27aa9553",
   "metadata": {},
   "outputs": [
    {
     "name": "stdout",
     "output_type": "stream",
     "text": [
      "1\n",
      "2\n",
      "3\n",
      "4\n",
      "5\n",
      "6\n",
      "7\n",
      "8\n",
      "9\n",
      "10\n"
     ]
    }
   ],
   "source": [
    "for i in c :\n",
    "    print(i)"
   ]
  },
  {
   "cell_type": "markdown",
   "id": "d1a0958c-cdd4-4867-bebb-683f1b1947f9",
   "metadata": {},
   "source": [
    "## Answer No.6"
   ]
  },
  {
   "cell_type": "code",
   "execution_count": 5,
   "id": "dcbe2794-0eec-4768-892a-c247d0936682",
   "metadata": {},
   "outputs": [],
   "source": [
    "def Fibonacci_numbers():\n",
    "    count = 0 \n",
    "    a,b = 0,1\n",
    "    print(\"Fibonacci numbers:\")\n",
    "    while count < 10:\n",
    "        print (a, end=' ')\n",
    "        a, b = b, a + b\n",
    "        count += 1"
   ]
  },
  {
   "cell_type": "code",
   "execution_count": 6,
   "id": "63522a39-fcc9-4584-ad21-a7f8986958ab",
   "metadata": {},
   "outputs": [
    {
     "name": "stdout",
     "output_type": "stream",
     "text": [
      "Fibonacci numbers:\n",
      "0 1 1 2 3 5 8 13 21 34 "
     ]
    }
   ],
   "source": [
    "fib_num = Fibonacci_numbers()"
   ]
  },
  {
   "cell_type": "markdown",
   "id": "f6e5f59a-3bfd-458b-a36b-f5276c5463f0",
   "metadata": {},
   "source": [
    "## Answer No.7"
   ]
  },
  {
   "cell_type": "code",
   "execution_count": 50,
   "id": "e925f745-f0a2-4609-bdca-d8268e56e8d2",
   "metadata": {},
   "outputs": [
    {
     "name": "stdout",
     "output_type": "stream",
     "text": [
      "['p', 'w', 's', 'k', 'i', 'l', 'l', 's']\n"
     ]
    }
   ],
   "source": [
    "string = \"pwskills\"\n",
    "result = [char for char in string]\n",
    "\n",
    "print(result)"
   ]
  },
  {
   "cell_type": "markdown",
   "id": "e95186c8-5fc0-415e-af06-246861e61785",
   "metadata": {},
   "source": [
    "## Answer No.8"
   ]
  },
  {
   "cell_type": "code",
   "execution_count": 35,
   "id": "bd98fff9-3478-42ee-a8a5-57b8048af1f6",
   "metadata": {},
   "outputs": [
    {
     "name": "stdin",
     "output_type": "stream",
     "text": [
      "Enter number  22\n"
     ]
    },
    {
     "name": "stdout",
     "output_type": "stream",
     "text": [
      "22 is a palindrome.\n"
     ]
    }
   ],
   "source": [
    "def is_Palindrome(n):\n",
    "    number = str(n)\n",
    "    if number == number[::-1]:\n",
    "        return True \n",
    "    else:\n",
    "        return False\n",
    "number = int(input(\"Enter number \"))\n",
    "if is_Palindrome(number):\n",
    "    print(number, \"is a palindrome.\")\n",
    "else:\n",
    "    print(number, \"is not a palindrome.\")"
   ]
  },
  {
   "cell_type": "markdown",
   "id": "57bd43b9-eba2-4efb-8fb9-568638fd0cfb",
   "metadata": {},
   "source": [
    "## Answer No.9"
   ]
  },
  {
   "cell_type": "code",
   "execution_count": 49,
   "id": "ca8e2738-8a46-4a3d-bcc1-91764c6d2383",
   "metadata": {},
   "outputs": [
    {
     "name": "stdout",
     "output_type": "stream",
     "text": [
      "Odd numbers from 1 to 100:\n",
      "[1, 3, 5, 7, 9, 11, 13, 15, 17, 19, 21, 23, 25, 27, 29, 31, 33, 35, 37, 39, 41, 43, 45, 47, 49, 51, 53, 55, 57, 59, 61, 63, 65, 67, 69, 71, 73, 75, 77, 79, 81, 83, 85, 87, 89, 91, 93, 95, 97, 99]\n"
     ]
    }
   ],
   "source": [
    "odd_numbers = [num for num in range(1, 101) if num % 2 != 0]\n",
    "\n",
    "print(\"Odd numbers from 1 to 100:\")\n",
    "print(odd_numbers)"
   ]
  }
 ],
 "metadata": {
  "kernelspec": {
   "display_name": "Python 3 (ipykernel)",
   "language": "python",
   "name": "python3"
  },
  "language_info": {
   "codemirror_mode": {
    "name": "ipython",
    "version": 3
   },
   "file_extension": ".py",
   "mimetype": "text/x-python",
   "name": "python",
   "nbconvert_exporter": "python",
   "pygments_lexer": "ipython3",
   "version": "3.10.8"
  }
 },
 "nbformat": 4,
 "nbformat_minor": 5
}
